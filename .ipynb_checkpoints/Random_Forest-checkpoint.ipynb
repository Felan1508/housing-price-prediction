{
 "cells": [
  {
   "cell_type": "code",
   "execution_count": 5,
   "id": "e8ec51a2-2d43-4388-b37b-0e2f433d0716",
   "metadata": {},
   "outputs": [],
   "source": [
    "from sklearn.ensemble import RandomForestRegressor  \n",
    "from sklearn.model_selection import train_test_split\n",
    "from sklearn.metrics import mean_squared_error\n"
   ]
  },
  {
   "cell_type": "code",
   "execution_count": 1,
   "id": "b2b219c3-a15a-4dc2-8eb2-2ad93b4ca4e9",
   "metadata": {},
   "outputs": [],
   "source": [
    "import pandas as pd\n",
    "# Load the CSV file (replace 'your_file.csv' with the actual file name)\n",
    "df = pd.read_csv(\"mogi_tphcm_houses_cleaned_filtered_v2.csv\")"
   ]
  },
  {
   "cell_type": "code",
   "execution_count": 11,
   "id": "5e115e03-9a26-404e-a18b-d6c689d3f6c8",
   "metadata": {},
   "outputs": [],
   "source": [
    "df = df[df['Price_USD'] <= 800000]  # Houses ≤ $800K"
   ]
  },
  {
   "cell_type": "code",
   "execution_count": 44,
   "id": "a95f3eff-7af2-45dd-9692-9a706a4bb0fd",
   "metadata": {},
   "outputs": [],
   "source": [
    "df = df[df['Distance_km_to_centre'] <= 15]  # Houses ≤ $800K"
   ]
  },
  {
   "cell_type": "code",
   "execution_count": 45,
   "id": "84d21fb6-5f81-4a3e-87e7-183a1932af3e",
   "metadata": {},
   "outputs": [
    {
     "data": {
      "text/html": [
       "<div>\n",
       "<style scoped>\n",
       "    .dataframe tbody tr th:only-of-type {\n",
       "        vertical-align: middle;\n",
       "    }\n",
       "\n",
       "    .dataframe tbody tr th {\n",
       "        vertical-align: top;\n",
       "    }\n",
       "\n",
       "    .dataframe thead th {\n",
       "        text-align: right;\n",
       "    }\n",
       "</style>\n",
       "<table border=\"1\" class=\"dataframe\">\n",
       "  <thead>\n",
       "    <tr style=\"text-align: right;\">\n",
       "      <th></th>\n",
       "      <th>Bedrooms</th>\n",
       "      <th>Bathrooms</th>\n",
       "      <th>Area</th>\n",
       "      <th>Price_Numeric</th>\n",
       "      <th>Price_per_m2</th>\n",
       "      <th>Distance_km_to_centre</th>\n",
       "      <th>Population</th>\n",
       "      <th>Price_USD</th>\n",
       "      <th>Price_USD_log</th>\n",
       "    </tr>\n",
       "  </thead>\n",
       "  <tbody>\n",
       "    <tr>\n",
       "      <th>count</th>\n",
       "      <td>60944.000000</td>\n",
       "      <td>60944.000000</td>\n",
       "      <td>60944.000000</td>\n",
       "      <td>6.094400e+04</td>\n",
       "      <td>60944.000000</td>\n",
       "      <td>60944.000000</td>\n",
       "      <td>60944.000000</td>\n",
       "      <td>60944.000000</td>\n",
       "      <td>60944.000000</td>\n",
       "    </tr>\n",
       "    <tr>\n",
       "      <th>mean</th>\n",
       "      <td>4.190306</td>\n",
       "      <td>4.002248</td>\n",
       "      <td>77.248556</td>\n",
       "      <td>1.139979e+10</td>\n",
       "      <td>6186.468164</td>\n",
       "      <td>6.062178</td>\n",
       "      <td>433662.607361</td>\n",
       "      <td>445521.872258</td>\n",
       "      <td>12.924283</td>\n",
       "    </tr>\n",
       "    <tr>\n",
       "      <th>std</th>\n",
       "      <td>1.730553</td>\n",
       "      <td>1.782961</td>\n",
       "      <td>29.091163</td>\n",
       "      <td>4.417459e+09</td>\n",
       "      <td>2645.506478</td>\n",
       "      <td>2.698670</td>\n",
       "      <td>166472.906842</td>\n",
       "      <td>172641.289752</td>\n",
       "      <td>0.419577</td>\n",
       "    </tr>\n",
       "    <tr>\n",
       "      <th>min</th>\n",
       "      <td>1.000000</td>\n",
       "      <td>1.000000</td>\n",
       "      <td>32.000000</td>\n",
       "      <td>4.000000e+09</td>\n",
       "      <td>801.673493</td>\n",
       "      <td>0.000000</td>\n",
       "      <td>147168.000000</td>\n",
       "      <td>156326.331216</td>\n",
       "      <td>11.959707</td>\n",
       "    </tr>\n",
       "    <tr>\n",
       "      <th>25%</th>\n",
       "      <td>3.000000</td>\n",
       "      <td>3.000000</td>\n",
       "      <td>56.000000</td>\n",
       "      <td>7.600000e+09</td>\n",
       "      <td>4288.118113</td>\n",
       "      <td>3.834019</td>\n",
       "      <td>310178.000000</td>\n",
       "      <td>297020.029311</td>\n",
       "      <td>12.601558</td>\n",
       "    </tr>\n",
       "    <tr>\n",
       "      <th>50%</th>\n",
       "      <td>4.000000</td>\n",
       "      <td>4.000000</td>\n",
       "      <td>72.000000</td>\n",
       "      <td>1.100000e+10</td>\n",
       "      <td>5740.107474</td>\n",
       "      <td>6.289203</td>\n",
       "      <td>474792.000000</td>\n",
       "      <td>429897.410845</td>\n",
       "      <td>12.971304</td>\n",
       "    </tr>\n",
       "    <tr>\n",
       "      <th>75%</th>\n",
       "      <td>5.000000</td>\n",
       "      <td>5.000000</td>\n",
       "      <td>90.000000</td>\n",
       "      <td>1.500000e+10</td>\n",
       "      <td>7599.196656</td>\n",
       "      <td>7.148581</td>\n",
       "      <td>490620.000000</td>\n",
       "      <td>586223.742062</td>\n",
       "      <td>13.281459</td>\n",
       "    </tr>\n",
       "    <tr>\n",
       "      <th>max</th>\n",
       "      <td>10.000000</td>\n",
       "      <td>10.000000</td>\n",
       "      <td>200.000000</td>\n",
       "      <td>2.045000e+10</td>\n",
       "      <td>24425.989253</td>\n",
       "      <td>14.024251</td>\n",
       "      <td>784173.000000</td>\n",
       "      <td>799218.368344</td>\n",
       "      <td>13.591391</td>\n",
       "    </tr>\n",
       "  </tbody>\n",
       "</table>\n",
       "</div>"
      ],
      "text/plain": [
       "           Bedrooms     Bathrooms          Area  Price_Numeric  Price_per_m2  \\\n",
       "count  60944.000000  60944.000000  60944.000000   6.094400e+04  60944.000000   \n",
       "mean       4.190306      4.002248     77.248556   1.139979e+10   6186.468164   \n",
       "std        1.730553      1.782961     29.091163   4.417459e+09   2645.506478   \n",
       "min        1.000000      1.000000     32.000000   4.000000e+09    801.673493   \n",
       "25%        3.000000      3.000000     56.000000   7.600000e+09   4288.118113   \n",
       "50%        4.000000      4.000000     72.000000   1.100000e+10   5740.107474   \n",
       "75%        5.000000      5.000000     90.000000   1.500000e+10   7599.196656   \n",
       "max       10.000000     10.000000    200.000000   2.045000e+10  24425.989253   \n",
       "\n",
       "       Distance_km_to_centre     Population      Price_USD  Price_USD_log  \n",
       "count           60944.000000   60944.000000   60944.000000   60944.000000  \n",
       "mean                6.062178  433662.607361  445521.872258      12.924283  \n",
       "std                 2.698670  166472.906842  172641.289752       0.419577  \n",
       "min                 0.000000  147168.000000  156326.331216      11.959707  \n",
       "25%                 3.834019  310178.000000  297020.029311      12.601558  \n",
       "50%                 6.289203  474792.000000  429897.410845      12.971304  \n",
       "75%                 7.148581  490620.000000  586223.742062      13.281459  \n",
       "max                14.024251  784173.000000  799218.368344      13.591391  "
      ]
     },
     "execution_count": 45,
     "metadata": {},
     "output_type": "execute_result"
    }
   ],
   "source": [
    "df.describe()"
   ]
  },
  {
   "cell_type": "code",
   "execution_count": 38,
   "id": "697ca2d3-cf1b-4191-87a4-75333cc540e1",
   "metadata": {},
   "outputs": [],
   "source": [
    "from sklearn.preprocessing import StandardScaler\n",
    "# Sample Data (replace with your housing data)\n",
    "X = df[['Bedrooms', 'Bathrooms', 'Area', 'Population', 'Distance_km_to_centre']]\n",
    "y = df['Price_USD_log']\n",
    "\n",
    "# Initialize the scaler\n",
    "scaler = StandardScaler()\n",
    "# Fit and transform the training data\n",
    "X = scaler.fit_transform(X)"
   ]
  },
  {
   "cell_type": "code",
   "execution_count": 39,
   "id": "c7439e96-4980-4c05-a3b4-5ad9f46d6041",
   "metadata": {},
   "outputs": [],
   "source": [
    "# Train-Test Split  \n",
    "X_train, X_test, y_train, y_test = train_test_split(X, y, test_size=0.2, random_state=42)"
   ]
  },
  {
   "cell_type": "code",
   "execution_count": 27,
   "id": "7789f80a-7908-4d41-a6a5-794812161750",
   "metadata": {},
   "outputs": [
    {
     "name": "stdout",
     "output_type": "stream",
     "text": [
      "Fitting 5 folds for each of 216 candidates, totalling 1080 fits\n",
      "{'max_depth': 10, 'max_features': 'sqrt', 'min_samples_leaf': 1, 'min_samples_split': 2, 'n_estimators': 700}\n"
     ]
    }
   ],
   "source": [
    "from sklearn.ensemble import RandomForestRegressor\n",
    "from sklearn.model_selection import GridSearchCV\n",
    "\n",
    "param_grid = {\n",
    "    \"n_estimators\": [100, 500, 700],\n",
    "    \"max_depth\": [None, 10, 20, 30],\n",
    "    \"min_samples_split\": [2, 5, 10],\n",
    "    \"min_samples_leaf\": [1, 2, 4],\n",
    "    \"max_features\": [\"sqrt\", \"log2\"]\n",
    "}\n",
    "\n",
    "rf = RandomForestRegressor(random_state=42)\n",
    "\n",
    "grid_search = GridSearchCV(rf, param_grid, cv=5, n_jobs=-1, verbose=2)\n",
    "grid_search.fit(X_train, y_train)\n",
    "\n",
    "# Get best parameters\n",
    "best_params = grid_search.best_params_\n",
    "print(best_params)\n"
   ]
  },
  {
   "cell_type": "code",
   "execution_count": 40,
   "id": "5a4f38f7-115a-4495-94cf-1e196e6d8052",
   "metadata": {},
   "outputs": [],
   "source": [
    "# Initialize and Train Model  \n",
    "rf_best = RandomForestRegressor(\n",
    "    max_depth=10, \n",
    "    max_features='sqrt', \n",
    "    min_samples_leaf=1, \n",
    "    min_samples_split=2, \n",
    "    n_estimators=700,\n",
    "    random_state=42\n",
    ")\n",
    "\n",
    "rf_best.fit(X_train, y_train)\n",
    "\n",
    "\n",
    "# Make Predictions  \n",
    "y_pred = rf_best.predict(X_test)"
   ]
  },
  {
   "cell_type": "code",
   "execution_count": 41,
   "id": "272da6f0-6f60-4bbf-84b7-54408ea9c74f",
   "metadata": {},
   "outputs": [
    {
     "name": "stdout",
     "output_type": "stream",
     "text": [
      "Mean Squared Error (MSE): 0.08306176542498282\n",
      "Root Mean Squared Error (RMSE): 0.28820438134244736\n",
      "Mean Absolute Error (MAE): 0.22694356775239227\n"
     ]
    }
   ],
   "source": [
    "from sklearn.metrics import mean_squared_error, mean_absolute_error\n",
    "import numpy as np\n",
    "\n",
    "# Calculate MSE first\n",
    "mse = mean_squared_error(y_test, y_pred)  \n",
    "print(f'Mean Squared Error (MSE): {mse}')\n",
    "\n",
    "# Now calculate RMSE using MSE\n",
    "rmse = np.sqrt(mse)\n",
    "print(f'Root Mean Squared Error (RMSE): {rmse}')\n",
    "\n",
    "# Calculate MAE\n",
    "mae = mean_absolute_error(y_test, y_pred)\n",
    "print(f'Mean Absolute Error (MAE): {mae}')\n"
   ]
  },
  {
   "cell_type": "code",
   "execution_count": 42,
   "id": "1baea55a-39a6-4ba7-a266-ee1e1929a2a5",
   "metadata": {},
   "outputs": [
    {
     "name": "stdout",
     "output_type": "stream",
     "text": [
      "0.5353672224421764\n"
     ]
    }
   ],
   "source": [
    "print(rf_best.score(X_test,y_test))"
   ]
  },
  {
   "cell_type": "code",
   "execution_count": 32,
   "id": "287c954b-2898-4cc6-b2e7-ff9e125401a3",
   "metadata": {},
   "outputs": [
    {
     "data": {
      "text/plain": [
       "array([0.0894595 , 0.04753648, 0.41254939, 0.10138196, 0.34907268])"
      ]
     },
     "execution_count": 32,
     "metadata": {},
     "output_type": "execute_result"
    }
   ],
   "source": [
    "rf_best.feature_importances_"
   ]
  }
 ],
 "metadata": {
  "kernelspec": {
   "display_name": "Python 3 (ipykernel)",
   "language": "python",
   "name": "python3"
  },
  "language_info": {
   "codemirror_mode": {
    "name": "ipython",
    "version": 3
   },
   "file_extension": ".py",
   "mimetype": "text/x-python",
   "name": "python",
   "nbconvert_exporter": "python",
   "pygments_lexer": "ipython3",
   "version": "3.10.11"
  }
 },
 "nbformat": 4,
 "nbformat_minor": 5
}
